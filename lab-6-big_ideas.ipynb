{
 "cells": [
  {
   "cell_type": "code",
   "execution_count": 9,
   "metadata": {},
   "outputs": [
    {
     "name": "stdin",
     "output_type": "stream",
     "text": [
      "Do you want a random number, Y or N?? N\n"
     ]
    },
    {
     "name": "stdout",
     "output_type": "stream",
     "text": [
      "Aw Man, ok. :(\n"
     ]
    },
    {
     "name": "stdin",
     "output_type": "stream",
     "text": [
      "Are you sure you don't want a random number, Y or N?? Y\n"
     ]
    },
    {
     "name": "stdout",
     "output_type": "stream",
     "text": [
      "Your Random Number is: 0.5887309832399148\n"
     ]
    }
   ],
   "source": [
    "import random \n",
    "\n",
    "def random_num():\n",
    "    ranInt = random.random()\n",
    "    print(\"Your Random Number is:\", ranInt)\n",
    "    \n",
    "random_yn = str(input(\"Do you want a random number, Y or N??\"))\n",
    "    \n",
    "if random_yn == (\"Y\"):\n",
    "    random_num()\n",
    "else:\n",
    "        print(\"Aw Man, ok. :(\")\n",
    "        affirm = str(input(\"Are you sure you don't want a random number, Y or N??\"))\n",
    "        if affirm == (\"N\"):\n",
    "            print(\"ok, we're done here then :)\")\n",
    "        else:\n",
    "            random_num()"
   ]
  },
  {
   "cell_type": "code",
   "execution_count": null,
   "metadata": {},
   "outputs": [],
   "source": []
  }
 ],
 "metadata": {
  "kernelspec": {
   "display_name": "Python 3",
   "language": "python",
   "name": "python3"
  },
  "language_info": {
   "codemirror_mode": {
    "name": "ipython",
    "version": 3
   },
   "file_extension": ".py",
   "mimetype": "text/x-python",
   "name": "python",
   "nbconvert_exporter": "python",
   "pygments_lexer": "ipython3",
   "version": "3.8.3"
  }
 },
 "nbformat": 4,
 "nbformat_minor": 4
}
